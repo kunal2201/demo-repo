{
 "cells": [
  {
   "cell_type": "raw",
   "id": "811ee7c8",
   "metadata": {},
   "source": [
    "1. In the below elements which of them are values or an expression? eg:- values can be\n",
    "integer or string and expressions will be mathematical operators."
   ]
  },
  {
   "cell_type": "raw",
   "id": "922fa214",
   "metadata": {},
   "source": [
    "ans - values = 'hello',-87.8,6"
   ]
  },
  {
   "cell_type": "raw",
   "id": "4e184e8f",
   "metadata": {},
   "source": [
    "expression = *,+,-,/"
   ]
  },
  {
   "cell_type": "raw",
   "id": "4390e8c2",
   "metadata": {},
   "source": [
    "2. What is the difference between string and variable?"
   ]
  },
  {
   "cell_type": "raw",
   "id": "9556047b",
   "metadata": {},
   "source": [
    "ans -  A string is a type of value that can be stored in a variable."
   ]
  },
  {
   "cell_type": "raw",
   "id": "7ad31a36",
   "metadata": {},
   "source": [
    "A variable is basically the name of the location in the primary memory of your computer."
   ]
  },
  {
   "cell_type": "raw",
   "id": "611ce5c5",
   "metadata": {},
   "source": [
    "3. Describe three different data types."
   ]
  },
  {
   "cell_type": "raw",
   "id": "abbe9c8a",
   "metadata": {},
   "source": [
    "ans - 1)string - String is a collection of alphabets, words or other characters. like \"india\""
   ]
  },
  {
   "cell_type": "raw",
   "id": "bf1776d3",
   "metadata": {},
   "source": [
    "2)integer - int represent positive or negative whole number like 10,-10"
   ]
  },
  {
   "cell_type": "raw",
   "id": "60e3c069",
   "metadata": {},
   "source": [
    "3)float - floats are basically decimal numbers like 10.90"
   ]
  },
  {
   "cell_type": "raw",
   "id": "b75c1d87",
   "metadata": {},
   "source": [
    "4. What is an expression made up of? What do all expressions do?"
   ]
  },
  {
   "cell_type": "raw",
   "id": "e77d0c8a",
   "metadata": {},
   "source": [
    "ans - An expression is a combination of operators and operands that is interpreted to produce some other value."
   ]
  },
  {
   "cell_type": "raw",
   "id": "6318cd6b",
   "metadata": {},
   "source": [
    "5. This assignment statements, like spam = 10. What is the difference between an\n",
    "expression and a statement?"
   ]
  },
  {
   "cell_type": "raw",
   "id": "599b5a00",
   "metadata": {},
   "source": [
    "ans - "
   ]
  },
  {
   "cell_type": "raw",
   "id": "828ab2e5",
   "metadata": {},
   "source": [
    "6. After running the following code, what does the variable bacon contain?"
   ]
  },
  {
   "cell_type": "code",
   "execution_count": 9,
   "id": "9054f687",
   "metadata": {},
   "outputs": [],
   "source": [
    "bacon = 22"
   ]
  },
  {
   "cell_type": "code",
   "execution_count": 10,
   "id": "e79be124",
   "metadata": {},
   "outputs": [
    {
     "data": {
      "text/plain": [
       "23"
      ]
     },
     "execution_count": 10,
     "metadata": {},
     "output_type": "execute_result"
    }
   ],
   "source": [
    "bacon + 1"
   ]
  },
  {
   "cell_type": "raw",
   "id": "b813b7b5",
   "metadata": {},
   "source": [
    "7. What should the values of the following two terms be?"
   ]
  },
  {
   "cell_type": "code",
   "execution_count": 8,
   "id": "157c02c0",
   "metadata": {},
   "outputs": [
    {
     "data": {
      "text/plain": [
       "'spamspamspam'"
      ]
     },
     "execution_count": 8,
     "metadata": {},
     "output_type": "execute_result"
    }
   ],
   "source": [
    "'spam'+'spamspam'"
   ]
  },
  {
   "cell_type": "code",
   "execution_count": 11,
   "id": "df5a1765",
   "metadata": {},
   "outputs": [
    {
     "data": {
      "text/plain": [
       "'spamspamspam'"
      ]
     },
     "execution_count": 11,
     "metadata": {},
     "output_type": "execute_result"
    }
   ],
   "source": [
    "'spam'*3"
   ]
  },
  {
   "cell_type": "raw",
   "id": "4f09d47f",
   "metadata": {},
   "source": [
    "8. Why is eggs a valid variable name while 100 is invalid?"
   ]
  },
  {
   "cell_type": "raw",
   "id": "e5fb2dc8",
   "metadata": {},
   "source": [
    "ans - a variable cannot start with a number but can start with a letter or an underscore. "
   ]
  },
  {
   "cell_type": "raw",
   "id": "ac598a44",
   "metadata": {},
   "source": [
    "9. What three functions can be used to get the integer, floating-point number, or string\n",
    "version of a value?"
   ]
  },
  {
   "cell_type": "code",
   "execution_count": null,
   "id": "71cdbd62",
   "metadata": {},
   "outputs": [],
   "source": [
    "ans - int(),str(),float()"
   ]
  },
  {
   "cell_type": "raw",
   "id": "141cc9a6",
   "metadata": {},
   "source": [
    "10. Why does this expression cause an error? How can you fix it?"
   ]
  },
  {
   "cell_type": "code",
   "execution_count": 12,
   "id": "555e2291",
   "metadata": {},
   "outputs": [
    {
     "data": {
      "text/plain": [
       "'i have eaten 99 burritos'"
      ]
     },
     "execution_count": 12,
     "metadata": {},
     "output_type": "execute_result"
    }
   ],
   "source": [
    "'i have eaten ' + str(99) + ' burritos'"
   ]
  },
  {
   "cell_type": "code",
   "execution_count": null,
   "id": "9d3d3e29",
   "metadata": {},
   "outputs": [],
   "source": []
  }
 ],
 "metadata": {
  "kernelspec": {
   "display_name": "Python 3",
   "language": "python",
   "name": "python3"
  },
  "language_info": {
   "codemirror_mode": {
    "name": "ipython",
    "version": 3
   },
   "file_extension": ".py",
   "mimetype": "text/x-python",
   "name": "python",
   "nbconvert_exporter": "python",
   "pygments_lexer": "ipython3",
   "version": "3.8.8"
  }
 },
 "nbformat": 4,
 "nbformat_minor": 5
}
